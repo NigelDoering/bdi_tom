{
 "cells": [
  {
   "cell_type": "code",
   "execution_count": 1,
   "id": "f1d3d5bb",
   "metadata": {},
   "outputs": [],
   "source": [
    "%load_ext autoreload\n",
    "%autoreload 2"
   ]
  },
  {
   "cell_type": "code",
   "execution_count": 2,
   "id": "be03a826",
   "metadata": {},
   "outputs": [
    {
     "name": "stdout",
     "output_type": "stream",
     "text": [
      "Project root added to path: /Users/nigeldoering/Desktop/Research/BDI ToM Project/bdi_tom\n"
     ]
    }
   ],
   "source": [
    "import sys\n",
    "import os\n",
    "import networkx as nx\n",
    "\n",
    "# Add project root to path to allow module imports\n",
    "# This assumes the notebook is in the 'notebooks' directory\n",
    "project_root = os.path.abspath(os.path.join(os.getcwd(), '..'))\n",
    "if project_root not in sys.path:\n",
    "    sys.path.insert(0, project_root)\n",
    "    \n",
    "print(f\"Project root added to path: {project_root}\")"
   ]
  },
  {
   "cell_type": "code",
   "execution_count": 3,
   "id": "72730670",
   "metadata": {},
   "outputs": [
    {
     "name": "stdout",
     "output_type": "stream",
     "text": [
      "Graph loaded successfully from: /Users/nigeldoering/Desktop/Research/BDI ToM Project/bdi_tom/data/processed/ucsd_walk_full.graphml\n",
      "Graph has 2823 nodes and 7390 edges.\n"
     ]
    }
   ],
   "source": [
    "# Load the graph from the processed data folder\n",
    "graph_path = os.path.join(project_root, 'data', 'processed', 'ucsd_walk_full.graphml')\n",
    "\n",
    "try:\n",
    "    G = nx.read_graphml(graph_path)\n",
    "    print(f\"Graph loaded successfully from: {graph_path}\")\n",
    "    print(f\"Graph has {G.number_of_nodes()} nodes and {G.number_of_edges()} edges.\")\n",
    "except FileNotFoundError:\n",
    "    print(f\"Error: Graph file not found at {graph_path}\")\n",
    "    print(\"Please ensure the graph has been created and is in the correct directory.\")"
   ]
  },
  {
   "cell_type": "code",
   "execution_count": null,
   "id": "7325eb3a",
   "metadata": {},
   "outputs": [
    {
     "name": "stdout",
     "output_type": "stream",
     "text": [
      "Initializing Agent...\n",
      "Agent created successfully.\n"
     ]
    }
   ],
   "source": [
    "from agent_controller.agent import Agent\n",
    "\n",
    "# Create an agent instance with a specific ID and the loaded graph\n",
    "# The agent's preferences will be automatically sampled upon creation.\n",
    "if 'G' in locals():\n",
    "    agent = Agent(agent_id=\"test_agent_001\", G=G)\n",
    "    print(\"Agent created successfully.\")\n",
    "else:\n",
    "    print(\"Agent creation failed because the graph 'G' was not loaded.\")"
   ]
  },
  {
   "cell_type": "code",
   "execution_count": 5,
   "id": "07df2636",
   "metadata": {},
   "outputs": [
    {
     "name": "stdout",
     "output_type": "stream",
     "text": [
      "Agent test_agent_001\n",
      "--------------------\n",
      "Category Preferences:\n",
      "  - home      : 0.3698\n",
      "  - leisure   : 0.2468\n",
      "  - food      : 0.1924\n",
      "  - errands   : 0.0764\n",
      "  - study     : 0.0619\n",
      "  - health    : 0.0528\n",
      "\n",
      "Node-Level Preferences:\n",
      "  - home      : OK (sum=1.0000, 64 nodes)\n",
      "    - Top 3:\n",
      "      - 10603070103                   : 0.7265\n",
      "      - 5388224283                    : 0.0968\n",
      "      - 5526780390                    : 0.0716\n",
      "  - study     : OK (sum=1.0000, 101 nodes)\n",
      "    - Top 3:\n",
      "      - 10301407424                   : 0.0849\n",
      "      - 9612082794                    : 0.0674\n",
      "      - 1533709578                    : 0.0580\n",
      "  - food      : OK (sum=1.0000, 36 nodes)\n",
      "    - Top 3:\n",
      "      - 10028680346                   : 0.1517\n",
      "      - 445989086                     : 0.1396\n",
      "      - 10293853371                   : 0.1259\n",
      "  - leisure   : OK (sum=1.0000, 8 nodes)\n",
      "    - Top 3:\n",
      "      - 4616865087                    : 0.3715\n",
      "      - 12072393880                   : 0.3349\n",
      "      - 356242654                     : 0.1329\n",
      "  - errands   : OK (sum=1.0000, 8 nodes)\n",
      "    - Top 3:\n",
      "      - 10299192801                   : 0.6089\n",
      "      - 3687377785                    : 0.2233\n",
      "      - 7179685072                    : 0.0886\n",
      "  - health    : OK (sum=1.0000, 13 nodes)\n",
      "    - Top 3:\n",
      "      - 5745765321                    : 0.6497\n",
      "      - 2183114704                    : 0.1732\n",
      "      - 9552931539                    : 0.0920\n",
      "\n"
     ]
    }
   ],
   "source": [
    "print(agent)"
   ]
  },
  {
   "cell_type": "code",
   "execution_count": 11,
   "id": "ddbd7e5c",
   "metadata": {},
   "outputs": [],
   "source": [
    "from simulation_controller.simulation import Simulation\n",
    "\n",
    "# Initialize the simulation controller\n",
    "simulation = Simulation(G)\n",
    "simulation.register_agent(agent)\n",
    "\n"
   ]
  },
  {
   "cell_type": "code",
   "execution_count": 12,
   "id": "0ba1f264",
   "metadata": {},
   "outputs": [
    {
     "ename": "TypeError",
     "evalue": "unsupported operand type(s) for +: 'int' and 'str'",
     "output_type": "error",
     "traceback": [
      "\u001b[31m---------------------------------------------------------------------------\u001b[39m",
      "\u001b[31mTypeError\u001b[39m                                 Traceback (most recent call last)",
      "\u001b[36mCell\u001b[39m\u001b[36m \u001b[39m\u001b[32mIn[12]\u001b[39m\u001b[32m, line 1\u001b[39m\n\u001b[32m----> \u001b[39m\u001b[32m1\u001b[39m \u001b[43msimulation\u001b[49m\u001b[43m.\u001b[49m\u001b[43mstep\u001b[49m\u001b[43m(\u001b[49m\u001b[43magent_id\u001b[49m\u001b[43m=\u001b[49m\u001b[43magent\u001b[49m\u001b[43m.\u001b[49m\u001b[43mid\u001b[49m\u001b[43m,\u001b[49m\u001b[43m \u001b[49m\u001b[43mcurrent_hour\u001b[49m\u001b[43m=\u001b[49m\u001b[32;43m10\u001b[39;49m\u001b[43m,\u001b[49m\u001b[43m \u001b[49m\u001b[43mpath_temp\u001b[49m\u001b[43m=\u001b[49m\u001b[32;43m100.0\u001b[39;49m\u001b[43m,\u001b[49m\u001b[43m \u001b[49m\u001b[43mbelief_update_dist\u001b[49m\u001b[43m=\u001b[49m\u001b[32;43m100\u001b[39;49m\u001b[43m)\u001b[49m\n",
      "\u001b[36mFile \u001b[39m\u001b[32m~/Desktop/Research/BDI ToM Project/bdi_tom/simulation_controller/simulation.py:44\u001b[39m, in \u001b[36mSimulation.step\u001b[39m\u001b[34m(self, agent_id, current_hour, path_temp, belief_update_dist)\u001b[39m\n\u001b[32m     41\u001b[39m goal_node = sample_goal_node(agent, current_hour)\n\u001b[32m     43\u001b[39m \u001b[38;5;66;03m# 2. Sample a start node that is reasonably far from the goal\u001b[39;00m\n\u001b[32m---> \u001b[39m\u001b[32m44\u001b[39m start_node = \u001b[43msample_start_node\u001b[49m\u001b[43m(\u001b[49m\u001b[43magent\u001b[49m\u001b[43m,\u001b[49m\u001b[43m \u001b[49m\u001b[43mgoal_node\u001b[49m\u001b[43m)\u001b[49m\n\u001b[32m     47\u001b[39m \u001b[38;5;66;03m# 3. Plan a stochastic path from start to goal\u001b[39;00m\n\u001b[32m     48\u001b[39m \u001b[38;5;28;01mtry\u001b[39;00m:\n",
      "\u001b[36mFile \u001b[39m\u001b[32m~/Desktop/Research/BDI ToM Project/bdi_tom/agent_controller/planning_utils.py:25\u001b[39m, in \u001b[36msample_start_node\u001b[39m\u001b[34m(agent, goal_node, min_dist, max_tries)\u001b[39m\n\u001b[32m     22\u001b[39m # Sample a single category based on the agent's high-level preferences\n\u001b[32m     23\u001b[39m sampled_category = np.random.choice(categories, p=probabilities)\n\u001b[32m---> \u001b[39m\u001b[32m25\u001b[39m # Retrieve the node-level preferences for the chosen category\n\u001b[32m     26\u001b[39m node_preferences = getattr(agent, f\"{sampled_category}_preferences\")\n\u001b[32m     28\u001b[39m # Get the temporal belief for each candidate node at the current hour\n",
      "\u001b[36mFile \u001b[39m\u001b[32m<class 'networkx.utils.decorators.argmap'> compilation 10:3\u001b[39m, in \u001b[36margmap_shortest_path_length_7\u001b[39m\u001b[34m(G, source, target, weight, method, backend, **backend_kwargs)\u001b[39m\n\u001b[32m      1\u001b[39m \u001b[38;5;28;01mimport\u001b[39;00m\u001b[38;5;250m \u001b[39m\u001b[34;01mbz2\u001b[39;00m\n\u001b[32m      2\u001b[39m \u001b[38;5;28;01mimport\u001b[39;00m\u001b[38;5;250m \u001b[39m\u001b[34;01mcollections\u001b[39;00m\n\u001b[32m----> \u001b[39m\u001b[32m3\u001b[39m \u001b[38;5;28;01mimport\u001b[39;00m\u001b[38;5;250m \u001b[39m\u001b[34;01mgzip\u001b[39;00m\n\u001b[32m      4\u001b[39m \u001b[38;5;28;01mimport\u001b[39;00m\u001b[38;5;250m \u001b[39m\u001b[34;01minspect\u001b[39;00m\n\u001b[32m      5\u001b[39m \u001b[38;5;28;01mimport\u001b[39;00m\u001b[38;5;250m \u001b[39m\u001b[34;01mitertools\u001b[39;00m\n",
      "\u001b[36mFile \u001b[39m\u001b[32m~/Desktop/Research/BDI ToM Project/bdi_tom/.venv/lib/python3.12/site-packages/networkx/utils/backends.py:535\u001b[39m, in \u001b[36m_dispatchable._call_if_no_backends_installed\u001b[39m\u001b[34m(self, backend, *args, **kwargs)\u001b[39m\n\u001b[32m    529\u001b[39m \u001b[38;5;28;01mif\u001b[39;00m \u001b[33m\"\u001b[39m\u001b[33mnetworkx\u001b[39m\u001b[33m\"\u001b[39m \u001b[38;5;129;01mnot\u001b[39;00m \u001b[38;5;129;01min\u001b[39;00m \u001b[38;5;28mself\u001b[39m.backends:\n\u001b[32m    530\u001b[39m     \u001b[38;5;28;01mraise\u001b[39;00m \u001b[38;5;167;01mNotImplementedError\u001b[39;00m(\n\u001b[32m    531\u001b[39m         \u001b[33mf\u001b[39m\u001b[33m\"\u001b[39m\u001b[33m'\u001b[39m\u001b[38;5;132;01m{\u001b[39;00m\u001b[38;5;28mself\u001b[39m.name\u001b[38;5;132;01m}\u001b[39;00m\u001b[33m'\u001b[39m\u001b[33m is not implemented by \u001b[39m\u001b[33m'\u001b[39m\u001b[33mnetworkx\u001b[39m\u001b[33m'\u001b[39m\u001b[33m backend. \u001b[39m\u001b[33m\"\u001b[39m\n\u001b[32m    532\u001b[39m         \u001b[33m\"\u001b[39m\u001b[33mThis function is included in NetworkX as an API to dispatch to \u001b[39m\u001b[33m\"\u001b[39m\n\u001b[32m    533\u001b[39m         \u001b[33m\"\u001b[39m\u001b[33mother backends.\u001b[39m\u001b[33m\"\u001b[39m\n\u001b[32m    534\u001b[39m     )\n\u001b[32m--> \u001b[39m\u001b[32m535\u001b[39m \u001b[38;5;28;01mreturn\u001b[39;00m \u001b[38;5;28;43mself\u001b[39;49m\u001b[43m.\u001b[49m\u001b[43morig_func\u001b[49m\u001b[43m(\u001b[49m\u001b[43m*\u001b[49m\u001b[43margs\u001b[49m\u001b[43m,\u001b[49m\u001b[43m \u001b[49m\u001b[43m*\u001b[49m\u001b[43m*\u001b[49m\u001b[43mkwargs\u001b[49m\u001b[43m)\u001b[49m\n",
      "\u001b[36mFile \u001b[39m\u001b[32m~/Desktop/Research/BDI ToM Project/bdi_tom/.venv/lib/python3.12/site-packages/networkx/algorithms/shortest_paths/generic.py:316\u001b[39m, in \u001b[36mshortest_path_length\u001b[39m\u001b[34m(G, source, target, weight, method)\u001b[39m\n\u001b[32m    314\u001b[39m     paths = \u001b[38;5;28mlen\u001b[39m(p) - \u001b[32m1\u001b[39m\n\u001b[32m    315\u001b[39m \u001b[38;5;28;01melif\u001b[39;00m method == \u001b[33m\"\u001b[39m\u001b[33mdijkstra\u001b[39m\u001b[33m\"\u001b[39m:\n\u001b[32m--> \u001b[39m\u001b[32m316\u001b[39m     paths = \u001b[43mnx\u001b[49m\u001b[43m.\u001b[49m\u001b[43mdijkstra_path_length\u001b[49m\u001b[43m(\u001b[49m\u001b[43mG\u001b[49m\u001b[43m,\u001b[49m\u001b[43m \u001b[49m\u001b[43msource\u001b[49m\u001b[43m,\u001b[49m\u001b[43m \u001b[49m\u001b[43mtarget\u001b[49m\u001b[43m,\u001b[49m\u001b[43m \u001b[49m\u001b[43mweight\u001b[49m\u001b[43m)\u001b[49m\n\u001b[32m    317\u001b[39m \u001b[38;5;28;01melse\u001b[39;00m:  \u001b[38;5;66;03m# method == 'bellman-ford':\u001b[39;00m\n\u001b[32m    318\u001b[39m     paths = nx.bellman_ford_path_length(G, source, target, weight)\n",
      "\u001b[36mFile \u001b[39m\u001b[32m<class 'networkx.utils.decorators.argmap'> compilation 14:3\u001b[39m, in \u001b[36margmap_dijkstra_path_length_11\u001b[39m\u001b[34m(G, source, target, weight, backend, **backend_kwargs)\u001b[39m\n\u001b[32m      1\u001b[39m \u001b[38;5;28;01mimport\u001b[39;00m\u001b[38;5;250m \u001b[39m\u001b[34;01mbz2\u001b[39;00m\n\u001b[32m      2\u001b[39m \u001b[38;5;28;01mimport\u001b[39;00m\u001b[38;5;250m \u001b[39m\u001b[34;01mcollections\u001b[39;00m\n\u001b[32m----> \u001b[39m\u001b[32m3\u001b[39m \u001b[38;5;28;01mimport\u001b[39;00m\u001b[38;5;250m \u001b[39m\u001b[34;01mgzip\u001b[39;00m\n\u001b[32m      4\u001b[39m \u001b[38;5;28;01mimport\u001b[39;00m\u001b[38;5;250m \u001b[39m\u001b[34;01minspect\u001b[39;00m\n\u001b[32m      5\u001b[39m \u001b[38;5;28;01mimport\u001b[39;00m\u001b[38;5;250m \u001b[39m\u001b[34;01mitertools\u001b[39;00m\n",
      "\u001b[36mFile \u001b[39m\u001b[32m~/Desktop/Research/BDI ToM Project/bdi_tom/.venv/lib/python3.12/site-packages/networkx/utils/backends.py:535\u001b[39m, in \u001b[36m_dispatchable._call_if_no_backends_installed\u001b[39m\u001b[34m(self, backend, *args, **kwargs)\u001b[39m\n\u001b[32m    529\u001b[39m \u001b[38;5;28;01mif\u001b[39;00m \u001b[33m\"\u001b[39m\u001b[33mnetworkx\u001b[39m\u001b[33m\"\u001b[39m \u001b[38;5;129;01mnot\u001b[39;00m \u001b[38;5;129;01min\u001b[39;00m \u001b[38;5;28mself\u001b[39m.backends:\n\u001b[32m    530\u001b[39m     \u001b[38;5;28;01mraise\u001b[39;00m \u001b[38;5;167;01mNotImplementedError\u001b[39;00m(\n\u001b[32m    531\u001b[39m         \u001b[33mf\u001b[39m\u001b[33m\"\u001b[39m\u001b[33m'\u001b[39m\u001b[38;5;132;01m{\u001b[39;00m\u001b[38;5;28mself\u001b[39m.name\u001b[38;5;132;01m}\u001b[39;00m\u001b[33m'\u001b[39m\u001b[33m is not implemented by \u001b[39m\u001b[33m'\u001b[39m\u001b[33mnetworkx\u001b[39m\u001b[33m'\u001b[39m\u001b[33m backend. \u001b[39m\u001b[33m\"\u001b[39m\n\u001b[32m    532\u001b[39m         \u001b[33m\"\u001b[39m\u001b[33mThis function is included in NetworkX as an API to dispatch to \u001b[39m\u001b[33m\"\u001b[39m\n\u001b[32m    533\u001b[39m         \u001b[33m\"\u001b[39m\u001b[33mother backends.\u001b[39m\u001b[33m\"\u001b[39m\n\u001b[32m    534\u001b[39m     )\n\u001b[32m--> \u001b[39m\u001b[32m535\u001b[39m \u001b[38;5;28;01mreturn\u001b[39;00m \u001b[38;5;28;43mself\u001b[39;49m\u001b[43m.\u001b[49m\u001b[43morig_func\u001b[49m\u001b[43m(\u001b[49m\u001b[43m*\u001b[49m\u001b[43margs\u001b[49m\u001b[43m,\u001b[49m\u001b[43m \u001b[49m\u001b[43m*\u001b[49m\u001b[43m*\u001b[49m\u001b[43mkwargs\u001b[49m\u001b[43m)\u001b[49m\n",
      "\u001b[36mFile \u001b[39m\u001b[32m~/Desktop/Research/BDI ToM Project/bdi_tom/.venv/lib/python3.12/site-packages/networkx/algorithms/shortest_paths/weighted.py:248\u001b[39m, in \u001b[36mdijkstra_path_length\u001b[39m\u001b[34m(G, source, target, weight)\u001b[39m\n\u001b[32m    246\u001b[39m     \u001b[38;5;28;01mreturn\u001b[39;00m \u001b[32m0\u001b[39m\n\u001b[32m    247\u001b[39m weight = _weight_function(G, weight)\n\u001b[32m--> \u001b[39m\u001b[32m248\u001b[39m length = \u001b[43m_dijkstra\u001b[49m\u001b[43m(\u001b[49m\u001b[43mG\u001b[49m\u001b[43m,\u001b[49m\u001b[43m \u001b[49m\u001b[43msource\u001b[49m\u001b[43m,\u001b[49m\u001b[43m \u001b[49m\u001b[43mweight\u001b[49m\u001b[43m,\u001b[49m\u001b[43m \u001b[49m\u001b[43mtarget\u001b[49m\u001b[43m=\u001b[49m\u001b[43mtarget\u001b[49m\u001b[43m)\u001b[49m\n\u001b[32m    249\u001b[39m \u001b[38;5;28;01mtry\u001b[39;00m:\n\u001b[32m    250\u001b[39m     \u001b[38;5;28;01mreturn\u001b[39;00m length[target]\n",
      "\u001b[36mFile \u001b[39m\u001b[32m~/Desktop/Research/BDI ToM Project/bdi_tom/.venv/lib/python3.12/site-packages/networkx/algorithms/shortest_paths/weighted.py:779\u001b[39m, in \u001b[36m_dijkstra\u001b[39m\u001b[34m(G, source, weight, pred, paths, cutoff, target)\u001b[39m\n\u001b[32m    770\u001b[39m \u001b[38;5;28;01mdef\u001b[39;00m\u001b[38;5;250m \u001b[39m\u001b[34m_dijkstra\u001b[39m(G, source, weight, pred=\u001b[38;5;28;01mNone\u001b[39;00m, paths=\u001b[38;5;28;01mNone\u001b[39;00m, cutoff=\u001b[38;5;28;01mNone\u001b[39;00m, target=\u001b[38;5;28;01mNone\u001b[39;00m):\n\u001b[32m    771\u001b[39m \u001b[38;5;250m    \u001b[39m\u001b[33;03m\"\"\"Uses Dijkstra's algorithm to find shortest weighted paths from a\u001b[39;00m\n\u001b[32m    772\u001b[39m \u001b[33;03m    single source.\u001b[39;00m\n\u001b[32m    773\u001b[39m \n\u001b[32m   (...)\u001b[39m\u001b[32m    777\u001b[39m \n\u001b[32m    778\u001b[39m \u001b[33;03m    \"\"\"\u001b[39;00m\n\u001b[32m--> \u001b[39m\u001b[32m779\u001b[39m     \u001b[38;5;28;01mreturn\u001b[39;00m \u001b[43m_dijkstra_multisource\u001b[49m\u001b[43m(\u001b[49m\n\u001b[32m    780\u001b[39m \u001b[43m        \u001b[49m\u001b[43mG\u001b[49m\u001b[43m,\u001b[49m\u001b[43m \u001b[49m\u001b[43m[\u001b[49m\u001b[43msource\u001b[49m\u001b[43m]\u001b[49m\u001b[43m,\u001b[49m\u001b[43m \u001b[49m\u001b[43mweight\u001b[49m\u001b[43m,\u001b[49m\u001b[43m \u001b[49m\u001b[43mpred\u001b[49m\u001b[43m=\u001b[49m\u001b[43mpred\u001b[49m\u001b[43m,\u001b[49m\u001b[43m \u001b[49m\u001b[43mpaths\u001b[49m\u001b[43m=\u001b[49m\u001b[43mpaths\u001b[49m\u001b[43m,\u001b[49m\u001b[43m \u001b[49m\u001b[43mcutoff\u001b[49m\u001b[43m=\u001b[49m\u001b[43mcutoff\u001b[49m\u001b[43m,\u001b[49m\u001b[43m \u001b[49m\u001b[43mtarget\u001b[49m\u001b[43m=\u001b[49m\u001b[43mtarget\u001b[49m\n\u001b[32m    781\u001b[39m \u001b[43m    \u001b[49m\u001b[43m)\u001b[49m\n",
      "\u001b[36mFile \u001b[39m\u001b[32m~/Desktop/Research/BDI ToM Project/bdi_tom/.venv/lib/python3.12/site-packages/networkx/algorithms/shortest_paths/weighted.py:859\u001b[39m, in \u001b[36m_dijkstra_multisource\u001b[39m\u001b[34m(G, sources, weight, pred, paths, cutoff, target)\u001b[39m\n\u001b[32m    857\u001b[39m \u001b[38;5;28;01mif\u001b[39;00m cost \u001b[38;5;129;01mis\u001b[39;00m \u001b[38;5;28;01mNone\u001b[39;00m:\n\u001b[32m    858\u001b[39m     \u001b[38;5;28;01mcontinue\u001b[39;00m\n\u001b[32m--> \u001b[39m\u001b[32m859\u001b[39m vu_dist = \u001b[43mdist\u001b[49m\u001b[43m[\u001b[49m\u001b[43mv\u001b[49m\u001b[43m]\u001b[49m\u001b[43m \u001b[49m\u001b[43m+\u001b[49m\u001b[43m \u001b[49m\u001b[43mcost\u001b[49m\n\u001b[32m    860\u001b[39m \u001b[38;5;28;01mif\u001b[39;00m cutoff \u001b[38;5;129;01mis\u001b[39;00m \u001b[38;5;129;01mnot\u001b[39;00m \u001b[38;5;28;01mNone\u001b[39;00m:\n\u001b[32m    861\u001b[39m     \u001b[38;5;28;01mif\u001b[39;00m vu_dist > cutoff:\n",
      "\u001b[31mTypeError\u001b[39m: unsupported operand type(s) for +: 'int' and 'str'"
     ]
    }
   ],
   "source": [
    "simulation.step(agent_id=agent.id, current_hour=10, path_temp=100.0, belief_update_dist=100)"
   ]
  },
  {
   "cell_type": "code",
   "execution_count": null,
   "id": "b64ac08a",
   "metadata": {},
   "outputs": [],
   "source": []
  }
 ],
 "metadata": {
  "kernelspec": {
   "display_name": "bdi-tom (3.12.4)",
   "language": "python",
   "name": "python3"
  },
  "language_info": {
   "codemirror_mode": {
    "name": "ipython",
    "version": 3
   },
   "file_extension": ".py",
   "mimetype": "text/x-python",
   "name": "python",
   "nbconvert_exporter": "python",
   "pygments_lexer": "ipython3",
   "version": "3.12.4"
  }
 },
 "nbformat": 4,
 "nbformat_minor": 5
}
