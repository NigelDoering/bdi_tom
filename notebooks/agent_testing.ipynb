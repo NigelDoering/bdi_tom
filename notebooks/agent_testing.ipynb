{
 "cells": [
  {
   "cell_type": "code",
   "execution_count": 1,
   "id": "4c713fb0",
   "metadata": {},
   "outputs": [
    {
     "name": "stdout",
     "output_type": "stream",
     "text": [
      "Exception reporting mode: Verbose\n"
     ]
    }
   ],
   "source": [
    "%load_ext autoreload\n",
    "%autoreload 2\n",
    "\n",
    "# Set exception mode to Verbose to get detailed stack traces\n",
    "%xmode Verbose"
   ]
  },
  {
   "cell_type": "code",
   "execution_count": 2,
   "id": "2e05b782",
   "metadata": {},
   "outputs": [
    {
     "name": "stdout",
     "output_type": "stream",
     "text": [
      "Project root added to path: /Users/nigeldoering/Desktop/Research/BDI ToM Project/bdi_tom\n"
     ]
    }
   ],
   "source": [
    "import sys\n",
    "import os\n",
    "import networkx as nx\n",
    "\n",
    "# Add project root to path to allow module imports\n",
    "# This assumes the notebook is in the 'notebooks' directory\n",
    "project_root = os.path.abspath(os.path.join(os.getcwd(), '..'))\n",
    "if project_root not in sys.path:\n",
    "    sys.path.insert(0, project_root)\n",
    "    \n",
    "print(f\"Project root added to path: {project_root}\")"
   ]
  },
  {
   "cell_type": "code",
   "execution_count": 3,
   "id": "83caca8b",
   "metadata": {},
   "outputs": [
    {
     "name": "stdout",
     "output_type": "stream",
     "text": [
      "Graph loaded successfully from: /Users/nigeldoering/Desktop/Research/BDI ToM Project/bdi_tom/data/processed/ucsd_walk_full.graphml\n",
      "Graph has 2823 nodes and 7390 edges.\n"
     ]
    }
   ],
   "source": [
    "# Load the graph from the processed data folder\n",
    "graph_path = os.path.join(project_root, 'data', 'processed', 'ucsd_walk_full.graphml')\n",
    "\n",
    "try:\n",
    "    G = nx.read_graphml(graph_path)\n",
    "    print(f\"Graph loaded successfully from: {graph_path}\")\n",
    "    print(f\"Graph has {G.number_of_nodes()} nodes and {G.number_of_edges()} edges.\")\n",
    "except FileNotFoundError:\n",
    "    print(f\"Error: Graph file not found at {graph_path}\")\n",
    "    print(\"Please ensure the graph has been created and is in the correct directory.\")"
   ]
  },
  {
   "cell_type": "code",
   "execution_count": 4,
   "id": "8d3d5d0b",
   "metadata": {},
   "outputs": [
    {
     "name": "stdout",
     "output_type": "stream",
     "text": [
      "Initializing Agent...\n",
      "Agent created successfully.\n"
     ]
    }
   ],
   "source": [
    "\n",
    "from agent_controller.agent import Agent\n",
    "\n",
    "# Create an agent instance with a specific ID and the loaded graph\n",
    "# The agent's preferences will be automatically sampled upon creation.\n",
    "if 'G' in locals():\n",
    "    agent = Agent(agent_id=\"test_agent_001\", G=G)\n",
    "    print(\"Agent created successfully.\")\n",
    "else:\n",
    "    print(\"Agent creation failed because the graph 'G' was not loaded.\")"
   ]
  },
  {
   "cell_type": "code",
   "execution_count": 40,
   "id": "beff425f",
   "metadata": {},
   "outputs": [
    {
     "name": "stdout",
     "output_type": "stream",
     "text": [
      "Agent test_agent_001\n",
      "--------------------\n",
      "Category Preferences:\n",
      "  - home      : 0.4580\n",
      "  - study     : 0.3587\n",
      "  - errands   : 0.0976\n",
      "  - leisure   : 0.0392\n",
      "  - food      : 0.0390\n",
      "  - health    : 0.0075\n",
      "\n",
      "Node-Level Preferences:\n",
      "  - home      : OK (sum=1.0000, 64 nodes)\n",
      "    - Top 3:\n",
      "      - 7965317439                    : 0.9738\n",
      "      - 11970887712                   : 0.0109\n",
      "      - 7965583175                    : 0.0047\n",
      "  - study     : OK (sum=1.0000, 101 nodes)\n",
      "    - Top 3:\n",
      "      - 10299244146                   : 0.1216\n",
      "      - 8851759232                    : 0.0699\n",
      "      - 4407347595                    : 0.0668\n",
      "  - food      : OK (sum=1.0000, 36 nodes)\n",
      "    - Top 3:\n",
      "      - 9552931552                    : 0.2062\n",
      "      - 10282604892                   : 0.1887\n",
      "      - 5811962759                    : 0.1863\n",
      "  - leisure   : OK (sum=1.0000, 8 nodes)\n",
      "    - Top 3:\n",
      "      - 7150807343                    : 0.3815\n",
      "      - 13041963734                   : 0.3549\n",
      "      - 12072393880                   : 0.0921\n",
      "  - errands   : OK (sum=1.0000, 8 nodes)\n",
      "    - Top 3:\n",
      "      - 7179685072                    : 0.3141\n",
      "      - 7738294595                    : 0.1515\n",
      "      - 10299244033                   : 0.1505\n",
      "  - health    : OK (sum=1.0000, 13 nodes)\n",
      "    - Top 3:\n",
      "      - 2183114714                    : 0.3213\n",
      "      - 1352176283                    : 0.2712\n",
      "      - 2183114704                    : 0.2415\n",
      "\n"
     ]
    }
   ],
   "source": [
    "# Print the agent to test the __str__ method\n",
    "# This will show the summary of category and node-level preferences.\n",
    "if 'agent' in locals():\n",
    "    print(agent)\n",
    "else:\n",
    "    print(\"Cannot print agent because it was not created.\")"
   ]
  },
  {
   "cell_type": "code",
   "execution_count": 41,
   "id": "f0743e96",
   "metadata": {},
   "outputs": [
    {
     "data": {
      "text/plain": [
       "{}"
      ]
     },
     "execution_count": 41,
     "metadata": {},
     "output_type": "execute_result"
    }
   ],
   "source": [
    "agent.belief_state"
   ]
  },
  {
   "cell_type": "code",
   "execution_count": null,
   "id": "a9eec504",
   "metadata": {},
   "outputs": [],
   "source": []
  }
 ],
 "metadata": {
  "kernelspec": {
   "display_name": "bdi-tom (3.12.4)",
   "language": "python",
   "name": "python3"
  },
  "language_info": {
   "codemirror_mode": {
    "name": "ipython",
    "version": 3
   },
   "file_extension": ".py",
   "mimetype": "text/x-python",
   "name": "python",
   "nbconvert_exporter": "python",
   "pygments_lexer": "ipython3",
   "version": "3.12.4"
  }
 },
 "nbformat": 4,
 "nbformat_minor": 5
}
